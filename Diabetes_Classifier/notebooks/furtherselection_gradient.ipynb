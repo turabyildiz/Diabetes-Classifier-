{
 "cells": [
  {
   "cell_type": "markdown",
   "metadata": {},
   "source": [
    "Lets now train the selected model on the entire training dataset"
   ]
  },
  {
   "cell_type": "code",
   "execution_count": 1,
   "metadata": {},
   "outputs": [
    {
     "name": "stdout",
     "output_type": "stream",
     "text": [
      "        HighBP  HighChol  CholCheck        BMI    Smoker  Stroke  \\\n",
      "28087      1.0       1.0        1.0  32.000000  1.000000     0.0   \n",
      "36258      1.0       0.0        1.0  33.000000  1.000000     0.0   \n",
      "210392     0.0       0.0        1.0  22.000000  0.000000     0.0   \n",
      "102508     0.0       1.0        1.0  26.000000  1.000000     0.0   \n",
      "450537     0.0       0.0        1.0  23.215912  0.000000     0.0   \n",
      "...        ...       ...        ...        ...       ...     ...   \n",
      "636434     1.0       0.0        1.0  34.000000  0.000000     0.0   \n",
      "484182     1.0       1.0        1.0  28.155724  1.000000     0.0   \n",
      "280143     1.0       0.0        1.0  36.000000  0.784786     0.0   \n",
      "39194      0.0       0.0        1.0  26.000000  0.000000     0.0   \n",
      "9903       1.0       1.0        1.0  35.000000  0.000000     0.0   \n",
      "\n",
      "        HeartDiseaseorAttack  PhysActivity    Fruits   Veggies  \\\n",
      "28087                    0.0           1.0  1.000000  0.000000   \n",
      "36258                    0.0           0.0  1.000000  1.000000   \n",
      "210392                   0.0           1.0  1.000000  1.000000   \n",
      "102508                   0.0           1.0  1.000000  1.000000   \n",
      "450537                   0.0           1.0  0.215912  1.000000   \n",
      "...                      ...           ...       ...       ...   \n",
      "636434                   0.0           0.0  1.000000  0.596922   \n",
      "484182                   0.0           1.0  1.000000  1.000000   \n",
      "280143                   0.0           1.0  1.000000  1.000000   \n",
      "39194                    0.0           1.0  1.000000  1.000000   \n",
      "9903                     0.0           0.0  0.000000  0.000000   \n",
      "\n",
      "        HvyAlcoholConsump  AnyHealthcare  NoDocbcCost       Sex        Age  \\\n",
      "28087                 0.0            1.0          0.0  0.000000   6.000000   \n",
      "36258                 0.0            1.0          0.0  0.000000   9.000000   \n",
      "210392                0.0            1.0          0.0  0.000000   9.000000   \n",
      "102508                0.0            1.0          0.0  0.000000   9.000000   \n",
      "450537                0.0            1.0          0.0  0.215912   3.568175   \n",
      "...                   ...            ...          ...       ...        ...   \n",
      "636434                0.0            1.0          0.0  1.000000   9.000000   \n",
      "484182                0.0            1.0          0.0  1.000000  12.000000   \n",
      "280143                0.0            1.0          0.0  0.000000   4.000000   \n",
      "39194                 0.0            1.0          0.0  1.000000  11.000000   \n",
      "9903                  0.0            1.0          1.0  1.000000   7.000000   \n",
      "\n",
      "        GenHlth_encoded  Education_encoded  Income_encoded  \n",
      "28087                 0                  4               0  \n",
      "36258                 2                  5               7  \n",
      "210392                1                  5               7  \n",
      "102508                1                  5               5  \n",
      "450537                2                  5               7  \n",
      "...                 ...                ...             ...  \n",
      "636434                3                  3               2  \n",
      "484182                2                  5               7  \n",
      "280143                2                  3               4  \n",
      "39194                 0                  5               7  \n",
      "9903                  2                  3               0  \n",
      "\n",
      "[32055 rows x 18 columns]\n",
      "28087     2.0\n",
      "36258     0.0\n",
      "210392    0.0\n",
      "102508    0.0\n",
      "450537    1.0\n",
      "         ... \n",
      "636434    2.0\n",
      "484182    2.0\n",
      "280143    1.0\n",
      "39194     0.0\n",
      "9903      2.0\n",
      "Name: Diabetes_012, Length: 32055, dtype: float64\n"
     ]
    }
   ],
   "source": [
    "# Load variables, check if it is loaded\n",
    "\n",
    "%store -r X_subset\n",
    "%store -r y_subset\n",
    "\n",
    "print(X_subset)\n",
    "print(y_subset)"
   ]
  },
  {
   "cell_type": "code",
   "execution_count": 2,
   "metadata": {},
   "outputs": [
    {
     "data": {
      "text/html": [
       "<style>#sk-container-id-1 {color: black;background-color: white;}#sk-container-id-1 pre{padding: 0;}#sk-container-id-1 div.sk-toggleable {background-color: white;}#sk-container-id-1 label.sk-toggleable__label {cursor: pointer;display: block;width: 100%;margin-bottom: 0;padding: 0.3em;box-sizing: border-box;text-align: center;}#sk-container-id-1 label.sk-toggleable__label-arrow:before {content: \"▸\";float: left;margin-right: 0.25em;color: #696969;}#sk-container-id-1 label.sk-toggleable__label-arrow:hover:before {color: black;}#sk-container-id-1 div.sk-estimator:hover label.sk-toggleable__label-arrow:before {color: black;}#sk-container-id-1 div.sk-toggleable__content {max-height: 0;max-width: 0;overflow: hidden;text-align: left;background-color: #f0f8ff;}#sk-container-id-1 div.sk-toggleable__content pre {margin: 0.2em;color: black;border-radius: 0.25em;background-color: #f0f8ff;}#sk-container-id-1 input.sk-toggleable__control:checked~div.sk-toggleable__content {max-height: 200px;max-width: 100%;overflow: auto;}#sk-container-id-1 input.sk-toggleable__control:checked~label.sk-toggleable__label-arrow:before {content: \"▾\";}#sk-container-id-1 div.sk-estimator input.sk-toggleable__control:checked~label.sk-toggleable__label {background-color: #d4ebff;}#sk-container-id-1 div.sk-label input.sk-toggleable__control:checked~label.sk-toggleable__label {background-color: #d4ebff;}#sk-container-id-1 input.sk-hidden--visually {border: 0;clip: rect(1px 1px 1px 1px);clip: rect(1px, 1px, 1px, 1px);height: 1px;margin: -1px;overflow: hidden;padding: 0;position: absolute;width: 1px;}#sk-container-id-1 div.sk-estimator {font-family: monospace;background-color: #f0f8ff;border: 1px dotted black;border-radius: 0.25em;box-sizing: border-box;margin-bottom: 0.5em;}#sk-container-id-1 div.sk-estimator:hover {background-color: #d4ebff;}#sk-container-id-1 div.sk-parallel-item::after {content: \"\";width: 100%;border-bottom: 1px solid gray;flex-grow: 1;}#sk-container-id-1 div.sk-label:hover label.sk-toggleable__label {background-color: #d4ebff;}#sk-container-id-1 div.sk-serial::before {content: \"\";position: absolute;border-left: 1px solid gray;box-sizing: border-box;top: 0;bottom: 0;left: 50%;z-index: 0;}#sk-container-id-1 div.sk-serial {display: flex;flex-direction: column;align-items: center;background-color: white;padding-right: 0.2em;padding-left: 0.2em;position: relative;}#sk-container-id-1 div.sk-item {position: relative;z-index: 1;}#sk-container-id-1 div.sk-parallel {display: flex;align-items: stretch;justify-content: center;background-color: white;position: relative;}#sk-container-id-1 div.sk-item::before, #sk-container-id-1 div.sk-parallel-item::before {content: \"\";position: absolute;border-left: 1px solid gray;box-sizing: border-box;top: 0;bottom: 0;left: 50%;z-index: -1;}#sk-container-id-1 div.sk-parallel-item {display: flex;flex-direction: column;z-index: 1;position: relative;background-color: white;}#sk-container-id-1 div.sk-parallel-item:first-child::after {align-self: flex-end;width: 50%;}#sk-container-id-1 div.sk-parallel-item:last-child::after {align-self: flex-start;width: 50%;}#sk-container-id-1 div.sk-parallel-item:only-child::after {width: 0;}#sk-container-id-1 div.sk-dashed-wrapped {border: 1px dashed gray;margin: 0 0.4em 0.5em 0.4em;box-sizing: border-box;padding-bottom: 0.4em;background-color: white;}#sk-container-id-1 div.sk-label label {font-family: monospace;font-weight: bold;display: inline-block;line-height: 1.2em;}#sk-container-id-1 div.sk-label-container {text-align: center;}#sk-container-id-1 div.sk-container {/* jupyter's `normalize.less` sets `[hidden] { display: none; }` but bootstrap.min.css set `[hidden] { display: none !important; }` so we also need the `!important` here to be able to override the default hidden behavior on the sphinx rendered scikit-learn.org. See: https://github.com/scikit-learn/scikit-learn/issues/21755 */display: inline-block !important;position: relative;}#sk-container-id-1 div.sk-text-repr-fallback {display: none;}</style><div id=\"sk-container-id-1\" class=\"sk-top-container\"><div class=\"sk-text-repr-fallback\"><pre>RandomForestClassifier(n_estimators=50, random_state=42)</pre><b>In a Jupyter environment, please rerun this cell to show the HTML representation or trust the notebook. <br />On GitHub, the HTML representation is unable to render, please try loading this page with nbviewer.org.</b></div><div class=\"sk-container\" hidden><div class=\"sk-item\"><div class=\"sk-estimator sk-toggleable\"><input class=\"sk-toggleable__control sk-hidden--visually\" id=\"sk-estimator-id-1\" type=\"checkbox\" checked><label for=\"sk-estimator-id-1\" class=\"sk-toggleable__label sk-toggleable__label-arrow\">RandomForestClassifier</label><div class=\"sk-toggleable__content\"><pre>RandomForestClassifier(n_estimators=50, random_state=42)</pre></div></div></div></div></div>"
      ],
      "text/plain": [
       "RandomForestClassifier(n_estimators=50, random_state=42)"
      ]
     },
     "execution_count": 2,
     "metadata": {},
     "output_type": "execute_result"
    }
   ],
   "source": [
    "from sklearn.ensemble import RandomForestClassifier\n",
    "\n",
    "final_model = RandomForestClassifier(n_estimators=50, random_state=42)\n",
    "final_model.fit(X_subset, y_subset)"
   ]
  },
  {
   "cell_type": "code",
   "execution_count": 3,
   "metadata": {},
   "outputs": [],
   "source": [
    "%store -r X_train\n",
    "%store -r y_test\n",
    "%store -r X_test\n",
    "%store -r y_test\n",
    "%store -r X\n",
    "%store -r y"
   ]
  },
  {
   "cell_type": "code",
   "execution_count": 4,
   "metadata": {},
   "outputs": [
    {
     "name": "stdout",
     "output_type": "stream",
     "text": [
      "Test Set F1 Score: 0.9256\n",
      "Classification Report:\n",
      "              precision    recall  f1-score   support\n",
      "\n",
      "         0.0       0.89      0.92      0.90     42740\n",
      "         1.0       0.98      0.97      0.98     42741\n",
      "         2.0       0.91      0.88      0.90     42741\n",
      "\n",
      "    accuracy                           0.93    128222\n",
      "   macro avg       0.93      0.93      0.93    128222\n",
      "weighted avg       0.93      0.93      0.93    128222\n",
      "\n"
     ]
    }
   ],
   "source": [
    "from sklearn.model_selection import train_test_split\n",
    "\n",
    "# Split the data into training and testing sets\n",
    "\n",
    "X_train, X_test, y_train, y_test = train_test_split(X, y, test_size=0.2, stratify=y, random_state=42)\n",
    "\n",
    "# Train the final model on the entire training dataset\n",
    "\n",
    "final_model.fit(X_train, y_train)\n",
    "\n",
    "# Evaluate the model on the test set\n",
    "\n",
    "from sklearn.metrics import f1_score, classification_report\n",
    "\n",
    "y_pred = final_model.predict(X_test)\n",
    "f1 = f1_score(y_test, y_pred, average='macro')\n",
    "print(f\"Test Set F1 Score: {f1:.4f}\")\n",
    "print(\"Classification Report:\")\n",
    "print(classification_report(y_test, y_pred))\n"
   ]
  },
  {
   "cell_type": "markdown",
   "metadata": {},
   "source": [
    "Now that we have trained the model on the test set, lets do some hyperparameter tuning with some modifications to make it faster"
   ]
  },
  {
   "cell_type": "code",
   "execution_count": 5,
   "metadata": {},
   "outputs": [
    {
     "name": "stdout",
     "output_type": "stream",
     "text": [
      "Fitting 3 folds for each of 20 candidates, totalling 60 fits\n",
      "Best Parameters: {'bootstrap': False, 'max_depth': 10, 'min_samples_leaf': 2, 'min_samples_split': 5, 'n_estimators': 51}\n",
      "Best Cross-Validation F1 Score: 0.5937\n",
      "Test Set F1 Score: 0.6884\n",
      "Classification Report:\n",
      "              precision    recall  f1-score   support\n",
      "\n",
      "         0.0       0.76      0.80      0.78     42740\n",
      "         1.0       0.71      0.67      0.69     42741\n",
      "         2.0       0.60      0.59      0.60     42741\n",
      "\n",
      "    accuracy                           0.69    128222\n",
      "   macro avg       0.69      0.69      0.69    128222\n",
      "weighted avg       0.69      0.69      0.69    128222\n",
      "\n"
     ]
    }
   ],
   "source": [
    "from sklearn.model_selection import RandomizedSearchCV\n",
    "from sklearn.ensemble import RandomForestClassifier\n",
    "from scipy.stats import randint\n",
    "from sklearn.metrics import f1_score, classification_report\n",
    "\n",
    "# Define the parameter distribution\n",
    "\n",
    "param_dist = {\n",
    "    'n_estimators': randint(50, 100),  # Reduced upper limit for faster search\n",
    "    'max_depth': [None, 10, 20],  # Reduced number of depth options\n",
    "    'min_samples_split': randint(2, 6),  # Reduced range\n",
    "    'min_samples_leaf': randint(1, 3),  # Reduced range\n",
    "    'bootstrap': [True, False]\n",
    "}\n",
    "\n",
    "# Initialize the Random Forest model\n",
    "\n",
    "rf = RandomForestClassifier(random_state=42)\n",
    "\n",
    "# Initialize Randomized Search\n",
    "\n",
    "random_search = RandomizedSearchCV(estimator=rf, param_distributions=param_dist, \n",
    "                                   n_iter=20, cv=3, n_jobs=-1, verbose=2, scoring='f1_macro', random_state=42)\n",
    "\n",
    "# Use a smaller subset of the data for hyperparameter tuning\n",
    "\n",
    "X_train_subset = X_train[:1000]\n",
    "y_train_subset = y_train[:1000]\n",
    "\n",
    "# Fit Randomized Search\n",
    "\n",
    "random_search.fit(X_train_subset, y_train_subset)\n",
    "\n",
    "# Get the best parameters and best score\n",
    "\n",
    "best_params = random_search.best_params_\n",
    "best_score = random_search.best_score_\n",
    "\n",
    "print(f\"Best Parameters: {best_params}\")\n",
    "print(f\"Best Cross-Validation F1 Score: {best_score:.4f}\")\n",
    "\n",
    "# Train the model with the best parameters\n",
    "\n",
    "final_model = RandomForestClassifier(**best_params, random_state=42)\n",
    "final_model.fit(X_train, y_train)\n",
    "\n",
    "# Evaluate the model on the test set with parameters\n",
    "\n",
    "y_pred = final_model.predict(X_test)\n",
    "f1 = f1_score(y_test, y_pred, average='macro')\n",
    "print(f\"Test Set F1 Score: {f1:.4f}\")\n",
    "print(\"Classification Report:\")\n",
    "print(classification_report(y_test, y_pred))\n"
   ]
  },
  {
   "cell_type": "markdown",
   "metadata": {},
   "source": [
    "Feature importance, to know which features contribute most to predictions"
   ]
  },
  {
   "cell_type": "code",
   "execution_count": 6,
   "metadata": {},
   "outputs": [
    {
     "name": "stdout",
     "output_type": "stream",
     "text": [
      "Feature ranking:\n",
      "1. feature 0 (0.2642587676991593)\n",
      "2. feature 1 (0.17923330714660327)\n",
      "3. feature 3 (0.0830821532374592)\n",
      "4. feature 14 (0.08094035916050803)\n",
      "5. feature 15 (0.07964834421005063)\n",
      "6. feature 7 (0.047955543642842165)\n",
      "7. feature 13 (0.041985235295963)\n",
      "8. feature 6 (0.04044300770578933)\n",
      "9. feature 4 (0.03549661299402214)\n",
      "10. feature 17 (0.02574272234138959)\n",
      "11. feature 8 (0.024644235848609884)\n",
      "12. feature 10 (0.024173149653551315)\n",
      "13. feature 9 (0.017683988428669594)\n",
      "14. feature 12 (0.01755775210792582)\n",
      "15. feature 16 (0.017355394504969052)\n",
      "16. feature 2 (0.007790020035191403)\n",
      "17. feature 11 (0.006989397394999192)\n",
      "18. feature 5 (0.005020008592297205)\n"
     ]
    },
    {
     "data": {
      "image/png": "[encoded data removed]",
      "text/plain": [
       "<Figure size 640x480 with 1 Axes>"
      ]
     },
     "metadata": {},
     "output_type": "display_data"
    }
   ],
   "source": [
    "import matplotlib.pyplot as plt\n",
    "import numpy as np\n",
    "\n",
    "# Get feature importances from the trained model\n",
    "\n",
    "importances = final_model.feature_importances_\n",
    "indices = np.argsort(importances)[::-1]\n",
    "\n",
    "# Print the feature ranking\n",
    "\n",
    "print(\"Feature ranking:\")\n",
    "\n",
    "for f in range(X_train.shape[1]):\n",
    "    print(f\"{f + 1}. feature {indices[f]} ({importances[indices[f]]})\")\n",
    "\n",
    "# Plot the feature importances of the forest\n",
    "\n",
    "plt.figure()\n",
    "plt.title(\"Feature importances\")\n",
    "plt.bar(range(X_train.shape[1]), importances[indices],\n",
    "       color=\"r\", align=\"center\")\n",
    "plt.xticks(range(X_train.shape[1]), indices)\n",
    "plt.xlim([-1, X_train.shape[1]])\n",
    "plt.show()\n"
   ]
  },
  {
   "cell_type": "markdown",
   "metadata": {},
   "source": [
    "It seems that high blood pressure and cholesterol have the most importance here, which confirms one of my ideas that blood pressure is impactful in deciding if the person has diabetes or not."
   ]
  },
  {
   "cell_type": "markdown",
   "metadata": {},
   "source": [
    "Time to compare the results with other models"
   ]
  },
  {
   "cell_type": "code",
   "execution_count": 7,
   "metadata": {},
   "outputs": [
    {
     "name": "stdout",
     "output_type": "stream",
     "text": [
      "Training and evaluating Logistic Regression...\n",
      "Logistic Regression Test Set F1 Score: 0.5136\n",
      "Classification Report:\n",
      "              precision    recall  f1-score   support\n",
      "\n",
      "         0.0       0.64      0.59      0.61       338\n",
      "         1.0       0.43      0.36      0.39       329\n",
      "         2.0       0.49      0.59      0.53       333\n",
      "\n",
      "    accuracy                           0.52      1000\n",
      "   macro avg       0.52      0.52      0.51      1000\n",
      "weighted avg       0.52      0.52      0.51      1000\n",
      "\n",
      "--------------------------------------------------\n",
      "Training and evaluating SVM...\n",
      "SVM Test Set F1 Score: 0.5142\n",
      "Classification Report:\n"
     ]
    },
    {
     "name": "stderr",
     "output_type": "stream",
     "text": [
      "c:\\Users\\turab\\anaconda3\\Lib\\site-packages\\sklearn\\linear_model\\_logistic.py:458: ConvergenceWarning: lbfgs failed to converge (status=1):\n",
      "STOP: TOTAL NO. of ITERATIONS REACHED LIMIT.\n",
      "\n",
      "Increase the number of iterations (max_iter) or scale the data as shown in:\n",
      "    https://scikit-learn.org/stable/modules/preprocessing.html\n",
      "Please also refer to the documentation for alternative solver options:\n",
      "    https://scikit-learn.org/stable/modules/linear_model.html#logistic-regression\n",
      "  n_iter_i = _check_optimize_result(\n"
     ]
    },
    {
     "name": "stdout",
     "output_type": "stream",
     "text": [
      "              precision    recall  f1-score   support\n",
      "\n",
      "         0.0       0.66      0.65      0.66       338\n",
      "         1.0       0.42      0.31      0.36       329\n",
      "         2.0       0.47      0.61      0.53       333\n",
      "\n",
      "    accuracy                           0.52      1000\n",
      "   macro avg       0.52      0.52      0.51      1000\n",
      "weighted avg       0.52      0.52      0.52      1000\n",
      "\n",
      "--------------------------------------------------\n",
      "Training and evaluating Gradient Boosting...\n",
      "Gradient Boosting Test Set F1 Score: 0.6667\n",
      "Classification Report:\n",
      "              precision    recall  f1-score   support\n",
      "\n",
      "         0.0       0.80      0.80      0.80       338\n",
      "         1.0       0.64      0.62      0.63       329\n",
      "         2.0       0.56      0.58      0.57       333\n",
      "\n",
      "    accuracy                           0.67      1000\n",
      "   macro avg       0.67      0.67      0.67      1000\n",
      "weighted avg       0.67      0.67      0.67      1000\n",
      "\n",
      "--------------------------------------------------\n",
      "Training and evaluating Neural Network...\n",
      "Neural Network Test Set F1 Score: 0.5116\n",
      "Classification Report:\n",
      "              precision    recall  f1-score   support\n",
      "\n",
      "         0.0       0.66      0.57      0.61       338\n",
      "         1.0       0.41      0.40      0.41       329\n",
      "         2.0       0.48      0.56      0.52       333\n",
      "\n",
      "    accuracy                           0.51      1000\n",
      "   macro avg       0.52      0.51      0.51      1000\n",
      "weighted avg       0.52      0.51      0.51      1000\n",
      "\n",
      "--------------------------------------------------\n",
      "Training and evaluating Random Forest with best hyperparameters...\n",
      "Random Forest Test Set F1 Score: 0.6124\n",
      "Classification Report:\n",
      "              precision    recall  f1-score   support\n",
      "\n",
      "         0.0       0.74      0.74      0.74       338\n",
      "         1.0       0.57      0.55      0.56       329\n",
      "         2.0       0.52      0.55      0.53       333\n",
      "\n",
      "    accuracy                           0.61      1000\n",
      "   macro avg       0.61      0.61      0.61      1000\n",
      "weighted avg       0.61      0.61      0.61      1000\n",
      "\n",
      "--------------------------------------------------\n"
     ]
    },
    {
     "name": "stderr",
     "output_type": "stream",
     "text": [
      "c:\\Users\\turab\\anaconda3\\Lib\\site-packages\\sklearn\\neural_network\\_multilayer_perceptron.py:686: ConvergenceWarning: Stochastic Optimizer: Maximum iterations (100) reached and the optimization hasn't converged yet.\n",
      "  warnings.warn(\n"
     ]
    }
   ],
   "source": [
    "from sklearn.linear_model import LogisticRegression\n",
    "from sklearn.svm import SVC\n",
    "from sklearn.ensemble import GradientBoostingClassifier\n",
    "from sklearn.neural_network import MLPClassifier\n",
    "from sklearn.metrics import f1_score, classification_report\n",
    "\n",
    "# Use a smaller subset of the data for initial comparison\n",
    "\n",
    "X_train_subset = X_train[:1000]\n",
    "y_train_subset = y_train[:1000]\n",
    "X_test_subset = X_test[:1000]\n",
    "y_test_subset = y_test[:1000]\n",
    "\n",
    "# Initialize the models with limited iterations\n",
    "\n",
    "models = {\n",
    "    'Logistic Regression': LogisticRegression(max_iter=100, random_state=42),\n",
    "    'SVM': SVC(random_state=42),\n",
    "    'Gradient Boosting': GradientBoostingClassifier(n_estimators=50, random_state=42),\n",
    "    'Neural Network': MLPClassifier(max_iter=100, random_state=42)\n",
    "}\n",
    "\n",
    "# Train and evaluate each model using the subset of the data\n",
    "\n",
    "for model_name, model in models.items():\n",
    "    print(f\"Training and evaluating {model_name}...\")\n",
    "    model.fit(X_train_subset, y_train_subset)\n",
    "    y_pred = model.predict(X_test_subset)\n",
    "    f1 = f1_score(y_test_subset, y_pred, average='macro')\n",
    "    print(f\"{model_name} Test Set F1 Score: {f1:.4f}\")\n",
    "    print(\"Classification Report:\")\n",
    "    print(classification_report(y_test_subset, y_pred))\n",
    "    print(\"-\" * 50)\n",
    "\n",
    "# Comparing with the Random Forest model\n",
    "\n",
    "print(\"Training and evaluating Random Forest with best hyperparameters...\")\n",
    "final_model.fit(X_train_subset, y_train_subset)\n",
    "y_pred_rf = final_model.predict(X_test_subset)\n",
    "f1_rf = f1_score(y_test_subset, y_pred_rf, average='macro')\n",
    "print(f\"Random Forest Test Set F1 Score: {f1_rf:.4f}\")\n",
    "print(\"Classification Report:\")\n",
    "print(classification_report(y_test_subset, y_pred_rf))\n",
    "print(\"-\" * 50)\n"
   ]
  },
  {
   "cell_type": "markdown",
   "metadata": {},
   "source": [
    "Its cross validation time"
   ]
  },
  {
   "cell_type": "code",
   "execution_count": 8,
   "metadata": {},
   "outputs": [
    {
     "name": "stdout",
     "output_type": "stream",
     "text": [
      "Evaluating Logistic Regression using cross-validation...\n",
      "Logistic Regression - Mean F1 Score: 0.5007 (+/- 0.0404)\n",
      "--------------------------------------------------\n",
      "Evaluating SVM using cross-validation...\n",
      "SVM - Mean F1 Score: 0.4812 (+/- 0.0456)\n",
      "--------------------------------------------------\n",
      "Evaluating Gradient Boosting using cross-validation...\n",
      "Gradient Boosting - Mean F1 Score: 0.5666 (+/- 0.0563)\n",
      "--------------------------------------------------\n",
      "Evaluating Neural Network using cross-validation...\n",
      "Neural Network - Mean F1 Score: 0.4168 (+/- 0.0221)\n",
      "--------------------------------------------------\n",
      "Evaluating Random Forest using cross-validation...\n",
      "Random Forest - Mean F1 Score: 0.5344 (+/- 0.0062)\n",
      "--------------------------------------------------\n"
     ]
    }
   ],
   "source": [
    "import numpy as np\n",
    "from sklearn.linear_model import LogisticRegression\n",
    "from sklearn.svm import SVC\n",
    "from sklearn.ensemble import GradientBoostingClassifier, RandomForestClassifier\n",
    "from sklearn.neural_network import MLPClassifier\n",
    "from sklearn.model_selection import cross_val_score\n",
    "\n",
    "# Define a smaller subset of data for faster execution\n",
    "\n",
    "X_train_subset = X_train[:500]  \n",
    "y_train_subset = y_train[:500]\n",
    "\n",
    "# Define models with reduced parameters\n",
    "\n",
    "models = {\n",
    "    'Logistic Regression': LogisticRegression(max_iter=30, random_state=42),\n",
    "    'SVM': SVC(random_state=42, probability=True),  # Quick evaluation\n",
    "    'Gradient Boosting': GradientBoostingClassifier(n_estimators=20, random_state=42),\n",
    "    'Neural Network': MLPClassifier(max_iter=30, random_state=42, n_iter_no_change=5),\n",
    "    'Random Forest': RandomForestClassifier(n_estimators=20, random_state=42, n_jobs=-1)\n",
    "}\n",
    "\n",
    "# Define a function for cross-validation\n",
    "\n",
    "def evaluate_model(model, X, y):\n",
    "    scores = cross_val_score(model, X, y, cv=3, scoring='f1_macro', n_jobs=-1)  # 3-fold cross-validation\n",
    "    return scores.mean(), scores.std()\n",
    "\n",
    "# Evaluate all models\n",
    "\n",
    "results = {}\n",
    "for model_name, model in models.items():\n",
    "    print(f\"Evaluating {model_name} using cross-validation...\")\n",
    "    mean_score, std_dev = evaluate_model(model, X_train_subset, y_train_subset)\n",
    "    results[model_name] = (mean_score, std_dev)\n",
    "    print(f\"{model_name} - Mean F1 Score: {mean_score:.4f} (+/- {std_dev:.4f})\")\n",
    "    print(\"-\" * 50)\n"
   ]
  },
  {
   "cell_type": "markdown",
   "metadata": {},
   "source": [
    "Gradient Boosting model has the highest mean F1 score\n",
    "\n",
    "It has the highest average F1 score among the models, indicating better overall performance in terms of balancing precision and recall\n",
    "\n",
    "standard deviation of the F1 score is high (0.0563), showing variability in its performance across folds"
   ]
  },
  {
   "cell_type": "markdown",
   "metadata": {},
   "source": [
    "Lets tune the gradient model"
   ]
  },
  {
   "cell_type": "code",
   "execution_count": 9,
   "metadata": {},
   "outputs": [
    {
     "name": "stdout",
     "output_type": "stream",
     "text": [
      "Best parameters: {'learning_rate': 0.06247746602583892, 'max_depth': 3, 'n_estimators': 91}\n",
      "Best score: 0.5930\n"
     ]
    }
   ],
   "source": [
    "from sklearn.model_selection import RandomizedSearchCV\n",
    "from scipy.stats import uniform, randint\n",
    "import numpy as np\n",
    "\n",
    "# Define the parameter distribution\n",
    "\n",
    "param_dist = {\n",
    "    'n_estimators': randint(50, 100),  \n",
    "    'learning_rate': uniform(0.01, 0.1),  \n",
    "    'max_depth': randint(3, 5)  # Reduced range for speed\n",
    "}\n",
    "\n",
    "# Use a smaller subset for faster tuning\n",
    "\n",
    "X_train_subset = X_train[:500]\n",
    "y_train_subset = y_train[:500]\n",
    "\n",
    "# Initialize RandomizedSearchCV\n",
    "\n",
    "random_search = RandomizedSearchCV(\n",
    "    GradientBoostingClassifier(random_state=42), \n",
    "    param_distributions=param_dist, \n",
    "    n_iter=10,  \n",
    "    cv=3,  \n",
    "    scoring='f1_macro', \n",
    "    n_jobs=-1, \n",
    "    random_state=42\n",
    ")\n",
    "\n",
    "# Fit RandomizedSearchCV\n",
    "\n",
    "random_search.fit(X_train_subset, y_train_subset)\n",
    "\n",
    "# Best parameters and score\n",
    "\n",
    "print(f\"Best parameters: {random_search.best_params_}\")\n",
    "print(f\"Best score: {random_search.best_score_:.4f}\")\n",
    "\n",
    "# Retrieve the best model\n",
    "\n",
    "best_gb_model = random_search.best_estimator_\n"
   ]
  },
  {
   "cell_type": "markdown",
   "metadata": {},
   "source": [
    "Time to train the gradient model on the entire training dataset"
   ]
  },
  {
   "cell_type": "code",
   "execution_count": 10,
   "metadata": {},
   "outputs": [
    {
     "data": {
      "text/html": [
       "<style>#sk-container-id-2 {color: black;background-color: white;}#sk-container-id-2 pre{padding: 0;}#sk-container-id-2 div.sk-toggleable {background-color: white;}#sk-container-id-2 label.sk-toggleable__label {cursor: pointer;display: block;width: 100%;margin-bottom: 0;padding: 0.3em;box-sizing: border-box;text-align: center;}#sk-container-id-2 label.sk-toggleable__label-arrow:before {content: \"▸\";float: left;margin-right: 0.25em;color: #696969;}#sk-container-id-2 label.sk-toggleable__label-arrow:hover:before {color: black;}#sk-container-id-2 div.sk-estimator:hover label.sk-toggleable__label-arrow:before {color: black;}#sk-container-id-2 div.sk-toggleable__content {max-height: 0;max-width: 0;overflow: hidden;text-align: left;background-color: #f0f8ff;}#sk-container-id-2 div.sk-toggleable__content pre {margin: 0.2em;color: black;border-radius: 0.25em;background-color: #f0f8ff;}#sk-container-id-2 input.sk-toggleable__control:checked~div.sk-toggleable__content {max-height: 200px;max-width: 100%;overflow: auto;}#sk-container-id-2 input.sk-toggleable__control:checked~label.sk-toggleable__label-arrow:before {content: \"▾\";}#sk-container-id-2 div.sk-estimator input.sk-toggleable__control:checked~label.sk-toggleable__label {background-color: #d4ebff;}#sk-container-id-2 div.sk-label input.sk-toggleable__control:checked~label.sk-toggleable__label {background-color: #d4ebff;}#sk-container-id-2 input.sk-hidden--visually {border: 0;clip: rect(1px 1px 1px 1px);clip: rect(1px, 1px, 1px, 1px);height: 1px;margin: -1px;overflow: hidden;padding: 0;position: absolute;width: 1px;}#sk-container-id-2 div.sk-estimator {font-family: monospace;background-color: #f0f8ff;border: 1px dotted black;border-radius: 0.25em;box-sizing: border-box;margin-bottom: 0.5em;}#sk-container-id-2 div.sk-estimator:hover {background-color: #d4ebff;}#sk-container-id-2 div.sk-parallel-item::after {content: \"\";width: 100%;border-bottom: 1px solid gray;flex-grow: 1;}#sk-container-id-2 div.sk-label:hover label.sk-toggleable__label {background-color: #d4ebff;}#sk-container-id-2 div.sk-serial::before {content: \"\";position: absolute;border-left: 1px solid gray;box-sizing: border-box;top: 0;bottom: 0;left: 50%;z-index: 0;}#sk-container-id-2 div.sk-serial {display: flex;flex-direction: column;align-items: center;background-color: white;padding-right: 0.2em;padding-left: 0.2em;position: relative;}#sk-container-id-2 div.sk-item {position: relative;z-index: 1;}#sk-container-id-2 div.sk-parallel {display: flex;align-items: stretch;justify-content: center;background-color: white;position: relative;}#sk-container-id-2 div.sk-item::before, #sk-container-id-2 div.sk-parallel-item::before {content: \"\";position: absolute;border-left: 1px solid gray;box-sizing: border-box;top: 0;bottom: 0;left: 50%;z-index: -1;}#sk-container-id-2 div.sk-parallel-item {display: flex;flex-direction: column;z-index: 1;position: relative;background-color: white;}#sk-container-id-2 div.sk-parallel-item:first-child::after {align-self: flex-end;width: 50%;}#sk-container-id-2 div.sk-parallel-item:last-child::after {align-self: flex-start;width: 50%;}#sk-container-id-2 div.sk-parallel-item:only-child::after {width: 0;}#sk-container-id-2 div.sk-dashed-wrapped {border: 1px dashed gray;margin: 0 0.4em 0.5em 0.4em;box-sizing: border-box;padding-bottom: 0.4em;background-color: white;}#sk-container-id-2 div.sk-label label {font-family: monospace;font-weight: bold;display: inline-block;line-height: 1.2em;}#sk-container-id-2 div.sk-label-container {text-align: center;}#sk-container-id-2 div.sk-container {/* jupyter's `normalize.less` sets `[hidden] { display: none; }` but bootstrap.min.css set `[hidden] { display: none !important; }` so we also need the `!important` here to be able to override the default hidden behavior on the sphinx rendered scikit-learn.org. See: https://github.com/scikit-learn/scikit-learn/issues/21755 */display: inline-block !important;position: relative;}#sk-container-id-2 div.sk-text-repr-fallback {display: none;}</style><div id=\"sk-container-id-2\" class=\"sk-top-container\"><div class=\"sk-text-repr-fallback\"><pre>GradientBoostingClassifier(learning_rate=0.06247746602583892, n_estimators=91,\n",
       "                           random_state=42)</pre><b>In a Jupyter environment, please rerun this cell to show the HTML representation or trust the notebook. <br />On GitHub, the HTML representation is unable to render, please try loading this page with nbviewer.org.</b></div><div class=\"sk-container\" hidden><div class=\"sk-item\"><div class=\"sk-estimator sk-toggleable\"><input class=\"sk-toggleable__control sk-hidden--visually\" id=\"sk-estimator-id-2\" type=\"checkbox\" checked><label for=\"sk-estimator-id-2\" class=\"sk-toggleable__label sk-toggleable__label-arrow\">GradientBoostingClassifier</label><div class=\"sk-toggleable__content\"><pre>GradientBoostingClassifier(learning_rate=0.06247746602583892, n_estimators=91,\n",
       "                           random_state=42)</pre></div></div></div></div></div>"
      ],
      "text/plain": [
       "GradientBoostingClassifier(learning_rate=0.06247746602583892, n_estimators=91,\n",
       "                           random_state=42)"
      ]
     },
     "execution_count": 10,
     "metadata": {},
     "output_type": "execute_result"
    }
   ],
   "source": [
    "# Train the final model using the entire training dataset with the best hyperparameters\n",
    "\n",
    "best_gb_model.fit(X_train, y_train)"
   ]
  },
  {
   "cell_type": "markdown",
   "metadata": {},
   "source": [
    "and now to train on the test set"
   ]
  },
  {
   "cell_type": "code",
   "execution_count": 12,
   "metadata": {},
   "outputs": [
    {
     "name": "stdout",
     "output_type": "stream",
     "text": [
      "Test Set F1 Score: 0.6928\n",
      "Classification Report:\n",
      "              precision    recall  f1-score   support\n",
      "\n",
      "         0.0       0.79      0.81      0.80     42740\n",
      "         1.0       0.70      0.68      0.69     42741\n",
      "         2.0       0.59      0.59      0.59     42741\n",
      "\n",
      "    accuracy                           0.69    128222\n",
      "   macro avg       0.69      0.69      0.69    128222\n",
      "weighted avg       0.69      0.69      0.69    128222\n",
      "\n"
     ]
    }
   ],
   "source": [
    "from sklearn.metrics import classification_report, f1_score\n",
    "\n",
    "# Predict on the test set\n",
    "\n",
    "y_pred = best_gb_model.predict(X_test)\n",
    "\n",
    "# Calculate F1 Score\n",
    "\n",
    "f1 = f1_score(y_test, y_pred, average='macro')\n",
    "print(f\"Test Set F1 Score: {f1:.4f}\")\n",
    "\n",
    "# Print Classification Report\n",
    "\n",
    "print(\"Classification Report:\")\n",
    "print(classification_report(y_test, y_pred))\n"
   ]
  },
  {
   "cell_type": "markdown",
   "metadata": {},
   "source": [
    "Feature importance"
   ]
  },
  {
   "cell_type": "code",
   "execution_count": 13,
   "metadata": {},
   "outputs": [
    {
     "data": {
      "image/png": "[encoded data removed]",
      "text/plain": [
       "<Figure size 1000x600 with 1 Axes>"
      ]
     },
     "metadata": {},
     "output_type": "display_data"
    }
   ],
   "source": [
    "import matplotlib.pyplot as plt\n",
    "import numpy as np\n",
    "\n",
    "# Get feature importances\n",
    "\n",
    "importances = best_gb_model.feature_importances_\n",
    "indices = np.argsort(importances)[::-1]\n",
    "\n",
    "# Plot feature importances\n",
    "\n",
    "plt.figure(figsize=(10, 6))\n",
    "plt.title(\"Feature Importances\")\n",
    "plt.bar(range(X_train.shape[1]), importances[indices], align=\"center\")\n",
    "plt.xticks(range(X_train.shape[1]), [X_train.columns[i] for i in indices], rotation=90)\n",
    "plt.xlim([-1, X_train.shape[1]])\n",
    "plt.show()\n"
   ]
  },
  {
   "cell_type": "markdown",
   "metadata": {},
   "source": [
    "It seems the features stay about the same, especially for the important ones"
   ]
  }
 ],
 "metadata": {
  "kernelspec": {
   "display_name": "base",
   "language": "python",
   "name": "python3"
  },
  "language_info": {
   "codemirror_mode": {
    "name": "ipython",
    "version": 3
   },
   "file_extension": ".py",
   "mimetype": "text/x-python",
   "name": "python",
   "nbconvert_exporter": "python",
   "pygments_lexer": "ipython3",
   "version": "3.11.7"
  }
 },
 "nbformat": 4,
 "nbformat_minor": 2
}
